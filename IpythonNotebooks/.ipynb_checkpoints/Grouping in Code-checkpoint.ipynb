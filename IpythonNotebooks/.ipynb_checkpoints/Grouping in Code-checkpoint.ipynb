{
 "cells": [
  {
   "cell_type": "code",
   "execution_count": 141,
   "metadata": {
    "collapsed": false
   },
   "outputs": [],
   "source": [
    "import pandas as pd"
   ]
  },
  {
   "cell_type": "code",
   "execution_count": 142,
   "metadata": {
    "collapsed": true
   },
   "outputs": [],
   "source": [
    "bx_ratings = pd.read_csv(\"newData/df_ratings.csv\")\n",
    "bx_books = pd.read_csv(\"newData/df_bookss.csv\")\n",
    "bx_users = pd.read_csv(\"newData/df_userss.csv\")"
   ]
  },
  {
   "cell_type": "code",
   "execution_count": 143,
   "metadata": {
    "collapsed": false
   },
   "outputs": [],
   "source": [
    "import operator\n",
    "def find_best_books(listofBooks, cnt):    \n",
    "    book_rate = {}\n",
    "    book_count = {}\n",
    "    for book,rate in listofBooks:\n",
    "        if( book_rate.get(book) == None):\n",
    "            book_rate[book] = 0\n",
    "            book_count[book] = 0\n",
    "        book_rate[book] += float(rate)\n",
    "        book_count[book] += 1\n",
    "    best_books = []\n",
    "    limit = ( max(book_count.iteritems(), key=operator.itemgetter(1))[1] ) * 0.2\n",
    "    for keys in book_count.iterkeys():\n",
    "        if( book_count[keys] >= limit):\n",
    "            best_books.append( ( round(book_rate[keys]/book_count[keys] , 2) , keys))\n",
    "    #print book_count['439139597']\n",
    "    cnt = min(cnt, len(best_books) )\n",
    "    return sorted(best_books, reverse=True)[:cnt]\n",
    "    "
   ]
  },
  {
   "cell_type": "code",
   "execution_count": 144,
   "metadata": {
    "collapsed": false
   },
   "outputs": [],
   "source": [
    "#find_best_books( book_country_map[0][' usa'])"
   ]
  },
  {
   "cell_type": "code",
   "execution_count": 145,
   "metadata": {
    "collapsed": true
   },
   "outputs": [],
   "source": [
    "def getUserAgeMap(bx_users):\n",
    "    map_user_age = {}\n",
    "    #bx_users = pd.read_csv(\"newData/df_userss.csv\")\n",
    "    for i,item in bx_users.iterrows():\n",
    "        map_user_age[ item['User-ID'] ] = item['Age']\n",
    "    return map_user_age\n",
    "\n",
    "def getUserCountryMap(bx_users):\n",
    "    map_user_country = {}\n",
    "    #bx_users = pd.read_csv(\"newData/df_userss.csv\")\n",
    "    for i,item in bx_users.iterrows():\n",
    "        map_user_country[ item['User-ID'] ] = item['Location']\n",
    "    return map_user_country"
   ]
  },
  {
   "cell_type": "code",
   "execution_count": 146,
   "metadata": {
    "collapsed": false
   },
   "outputs": [],
   "source": [
    "def getAgeGroup( age ):\n",
    "    if( age <= 30):\n",
    "        return 0\n",
    "    elif ( age > 30 and age <= 60):\n",
    "        return 1\n",
    "    return 2"
   ]
  },
  {
   "cell_type": "code",
   "execution_count": 156,
   "metadata": {
    "collapsed": true
   },
   "outputs": [],
   "source": [
    "def getDictionaryOfGroupByBooks(user, bx_ratings, bx_users):\n",
    "    ageMap = getUserAgeMap(bx_users)\n",
    "    countryMap = getUserCountryMap(bx_users)\n",
    "    \n",
    "    group = getAgeGroup( ageMap[user] )\n",
    "    country = countryMap[ user ]\n",
    "    \n",
    "    #bx_ratings = pd.read_csv(\"newData/df_ratings.csv\")\n",
    "    listOfBooks = []\n",
    "    for i,item in bx_ratings.iterrows():\n",
    "        user = item['User-ID']\n",
    "        if( countryMap[ user ] == country and getAgeGroup( ageMap[ user ] ) == group ):\n",
    "            listOfBooks.append( (item['ISBN'], item['Book-Rating']) )\n",
    "    return listOfBooks"
   ]
  },
  {
   "cell_type": "code",
   "execution_count": 160,
   "metadata": {
    "collapsed": false
   },
   "outputs": [],
   "source": [
    "def getRecommendationByDemographic(user):\n",
    "    bx_ratings = pd.read_csv(\"../newData/df_ratings.csv\")\n",
    "    bx_books = pd.read_csv(\"../newData/df_bookss.csv\")\n",
    "    bx_users = pd.read_csv(\"../newData/df_userss.csv\")\n",
    "    listofBooks = getDictionaryOfGroupByBooks(user, bx_ratings, bx_users)\n",
    "    recommended_books = find_best_books(listofBooks, 5)\n",
    "    return recommended_books"
   ]
  },
  {
   "cell_type": "code",
   "execution_count": 161,
   "metadata": {
    "collapsed": false
   },
   "outputs": [
    {
     "data": {
      "text/plain": [
       "[(9.0, '751503894'),\n",
       " (8.6, '8478884459'),\n",
       " (8.33, '8495618605'),\n",
       " (8.33, '8477204055'),\n",
       " (8.33, '345350499')]"
      ]
     },
     "execution_count": 161,
     "metadata": {},
     "output_type": "execute_result"
    }
   ],
   "source": [
    "getRecommendationByDemographic(276925, bx_ratings, bx_users)"
   ]
  },
  {
   "cell_type": "code",
   "execution_count": null,
   "metadata": {
    "collapsed": true
   },
   "outputs": [],
   "source": []
  }
 ],
 "metadata": {
  "kernelspec": {
   "display_name": "Python 2",
   "language": "python",
   "name": "python2"
  },
  "language_info": {
   "codemirror_mode": {
    "name": "ipython",
    "version": 2
   },
   "file_extension": ".py",
   "mimetype": "text/x-python",
   "name": "python",
   "nbconvert_exporter": "python",
   "pygments_lexer": "ipython2",
   "version": "2.7.11"
  }
 },
 "nbformat": 4,
 "nbformat_minor": 0
}
