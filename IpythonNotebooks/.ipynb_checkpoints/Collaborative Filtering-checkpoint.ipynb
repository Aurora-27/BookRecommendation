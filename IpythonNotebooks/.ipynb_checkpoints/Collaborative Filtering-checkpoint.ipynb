{
 "cells": [
  {
   "cell_type": "code",
   "execution_count": 11,
   "metadata": {
    "collapsed": true
   },
   "outputs": [],
   "source": [
    "import pandas as pd"
   ]
  },
  {
   "cell_type": "code",
   "execution_count": 12,
   "metadata": {
    "collapsed": false
   },
   "outputs": [],
   "source": [
    "ratings = pd.read_csv('../newData/df_ratings.csv')"
   ]
  },
  {
   "cell_type": "code",
   "execution_count": 13,
   "metadata": {
    "collapsed": false
   },
   "outputs": [
    {
     "data": {
      "text/html": [
       "<div>\n",
       "<table border=\"1\" class=\"dataframe\">\n",
       "  <thead>\n",
       "    <tr style=\"text-align: right;\">\n",
       "      <th></th>\n",
       "      <th>User-ID</th>\n",
       "      <th>ISBN</th>\n",
       "      <th>Book-Rating</th>\n",
       "    </tr>\n",
       "  </thead>\n",
       "  <tbody>\n",
       "    <tr>\n",
       "      <th>0</th>\n",
       "      <td>276925</td>\n",
       "      <td>002542730X</td>\n",
       "      <td>10.0</td>\n",
       "    </tr>\n",
       "    <tr>\n",
       "      <th>1</th>\n",
       "      <td>276925</td>\n",
       "      <td>60520507</td>\n",
       "      <td>9.0</td>\n",
       "    </tr>\n",
       "    <tr>\n",
       "      <th>2</th>\n",
       "      <td>276925</td>\n",
       "      <td>151010633</td>\n",
       "      <td>9.0</td>\n",
       "    </tr>\n",
       "    <tr>\n",
       "      <th>3</th>\n",
       "      <td>276925</td>\n",
       "      <td>316666343</td>\n",
       "      <td>9.0</td>\n",
       "    </tr>\n",
       "    <tr>\n",
       "      <th>4</th>\n",
       "      <td>276925</td>\n",
       "      <td>345391810</td>\n",
       "      <td>9.0</td>\n",
       "    </tr>\n",
       "  </tbody>\n",
       "</table>\n",
       "</div>"
      ],
      "text/plain": [
       "   User-ID        ISBN  Book-Rating\n",
       "0   276925  002542730X         10.0\n",
       "1   276925    60520507          9.0\n",
       "2   276925   151010633          9.0\n",
       "3   276925   316666343          9.0\n",
       "4   276925   345391810          9.0"
      ]
     },
     "execution_count": 13,
     "metadata": {},
     "output_type": "execute_result"
    }
   ],
   "source": [
    "ratings.head()"
   ]
  },
  {
   "cell_type": "code",
   "execution_count": 14,
   "metadata": {
    "collapsed": true
   },
   "outputs": [],
   "source": [
    "def makeDictUser():\n",
    "    ratings = pd.read_csv('../newData/df_ratings.csv')\n",
    "    ratings = pd.DataFrame(ratings)\n",
    "    dict_ratings = {}\n",
    "    i = 0\n",
    "    user_list = set()\n",
    "    book_list = set()\n",
    "    for index, row in ratings.iterrows():\n",
    "        user = row['User-ID']\n",
    "        isbn = row['ISBN']\n",
    "        rate = row['Book-Rating']\n",
    "        i += 1\n",
    "        dict_ratings.setdefault(user, {} )\n",
    "        dict_ratings[user][isbn] = rate\n",
    "        user_list.add(user)\n",
    "        book_list.add(isbn)\n",
    "    return [dict_ratings, i, user_list, book_list]\n",
    "\n",
    "def makeDictBooks():\n",
    "    ratings = pd.read_csv('../newData/df_ratings.csv')\n",
    "    ratings = pd.DataFrame(ratings)\n",
    "    dict_ratings = {}\n",
    "    i = 0\n",
    "    for index, row in ratings.iterrows():\n",
    "        user = row['User-ID']\n",
    "        isbn = row['ISBN']\n",
    "        rate = row['Book-Rating']\n",
    "        i += 1\n",
    "        dict_ratings.setdefault(isbn, {} )\n",
    "        dict_ratings[isbn][user] = rate\n",
    "    return dict_ratings, i"
   ]
  },
  {
   "cell_type": "code",
   "execution_count": 15,
   "metadata": {
    "collapsed": false
   },
   "outputs": [],
   "source": [
    "def sim_pearson(prefs,p1,p2):\n",
    "     si = {}\n",
    "     for item in prefs[p1]:\n",
    "         if item in prefs[p2]: si[item]=1\n",
    "     n=len(si)\n",
    "     if n<=3: return 0\n",
    "     sum1=sum([prefs[p1][it] for it in si])\n",
    "     sum2=sum([prefs[p2][it] for it in si])\n",
    "     sum1Sq=sum([pow(prefs[p1][it],2) for it in si])\n",
    "     sum2Sq=sum([pow(prefs[p2][it],2) for it in si])\n",
    "     pSum=sum([prefs[p1][it]*prefs[p2][it] for it in si])\n",
    "     num=pSum-(sum1*sum2)/n\n",
    "     den= ( (sum1Sq-pow(sum1,2)/n)*(sum2Sq-pow(sum2,2)/n) )**0.5\n",
    "     if den==0: return 0\n",
    "     return num/den"
   ]
  },
  {
   "cell_type": "code",
   "execution_count": 16,
   "metadata": {
    "collapsed": false
   },
   "outputs": [],
   "source": [
    "pref_users ,cnt , users_list ,books_list  = makeDictUser()"
   ]
  },
  {
   "cell_type": "code",
   "execution_count": 17,
   "metadata": {
    "collapsed": true
   },
   "outputs": [],
   "source": [
    "pref_book, _ = makeDictBooks()"
   ]
  },
  {
   "cell_type": "code",
   "execution_count": 18,
   "metadata": {
    "collapsed": true
   },
   "outputs": [],
   "source": [
    "def getSimilarUsers(pref, users_list, user, cnt=5):\n",
    "    similarity = []\n",
    "    for given in users_list:\n",
    "        if( given != user):\n",
    "            similarity.append( ( sim_pearson(pref,user,given) , given ) )\n",
    "            #similarity.append(sim_pearson(pref,user,given) )\n",
    "    similarity = sorted( similarity, key = lambda x: x[0])\n",
    "    #similarity.sort()\n",
    "    return similarity[-cnt:]"
   ]
  },
  {
   "cell_type": "code",
   "execution_count": 19,
   "metadata": {
    "collapsed": false
   },
   "outputs": [
    {
     "name": "stdout",
     "output_type": "stream",
     "text": [
      "[(0.7745966692414837, 100906), (0.8749999999999811, 87712), (0.880704845927983, 206534), (1.0, 243929), (1.0, 90049)]\n"
     ]
    }
   ],
   "source": [
    "print getSimilarUsers(pref_users, users_list, 175117)"
   ]
  },
  {
   "cell_type": "code",
   "execution_count": 20,
   "metadata": {
    "collapsed": true
   },
   "outputs": [],
   "source": [
    "def getSimilarBooks(pref, book_list, book, cnt = 5):\n",
    "    similarity = []\n",
    "    for given in book_list:\n",
    "        if( given != book):\n",
    "            similarity.append( (sim_pearson(pref_book,book,given) , given ) )\n",
    "    similarity = sorted( similarity, key = lambda x: x[0])\n",
    "    return similarity[-cnt:]"
   ]
  },
  {
   "cell_type": "code",
   "execution_count": 21,
   "metadata": {
    "collapsed": true
   },
   "outputs": [],
   "source": [
    "def getBookAverageRating():\n",
    "    book_rating = {}\n",
    "    book_count = {}\n",
    "    avg_rating = {}\n",
    "    for i,item in ratings.iterrows():\n",
    "        if( book_rating.get( item['ISBN']) == None):\n",
    "            book_rating[item['ISBN']] = 0\n",
    "            book_count[ item['ISBN'] ] = 0\n",
    "        book_rating[item['ISBN']] += item['Book-Rating']\n",
    "        book_count[ item['ISBN'] ] += 1\n",
    "    for keys in book_rating.iterkeys():\n",
    "        avg_rating[keys] = book_rating[keys] / book_count[keys]\n",
    "    return avg_rating, book_count"
   ]
  },
  {
   "cell_type": "code",
   "execution_count": 22,
   "metadata": {
    "collapsed": false
   },
   "outputs": [
    {
     "name": "stdout",
     "output_type": "stream",
     "text": [
      "[(1.0, '743464672'), (1.0, '60926317'), (1.0, '157322930X'), (1.0, '373250215'), (1.0, '345427637')]\n"
     ]
    }
   ],
   "source": [
    "print getSimilarBooks(pref_book, books_list, \"60520507\")"
   ]
  },
  {
   "cell_type": "code",
   "execution_count": 32,
   "metadata": {
    "collapsed": false
   },
   "outputs": [],
   "source": [
    "def getRecommendationByUserCollaborative(user, cnt = 5):\n",
    "    pref_users ,_ , users_list ,books_list  = makeDictUser()\n",
    "    similarUser = getSimilarUsers(pref_users, users_list, user, 10)\n",
    "    totals = {}\n",
    "    simsums = {}\n",
    "    count = {}\n",
    "   # print similarUser,\"\\n\\n\"\n",
    "    \n",
    "    for others in similarUser:\n",
    "        sim = others[0]\n",
    "        if( sim <= 0 ):\n",
    "            continue\n",
    "        \n",
    "        for item in pref_users[others[1]]:\n",
    "            if item not in pref_users[user]:\n",
    "                totals.setdefault(item,0)\n",
    "                totals[item] += pref_users[others[1]][item] * sim\n",
    "                simsums.setdefault(item,0)\n",
    "                count.setdefault(item,0)\n",
    "                simsums[item] += sim\n",
    "                count[item] += 1\n",
    "                \n",
    "    rankings = []\n",
    "    for item,total in totals.items():\n",
    "        if( count[item] > 1 ):\n",
    "            rankings.append(( round(total/simsums[item],2) , item) )\n",
    "            \n",
    "    #rankings = [ (total/simsums[item], item) for item,total in totals.items() ]\n",
    "    \n",
    "    rankings.sort()\n",
    "    rankings.reverse()\n",
    "    return rankings[:cnt]    "
   ]
  },
  {
   "cell_type": "code",
   "execution_count": 33,
   "metadata": {
    "collapsed": false
   },
   "outputs": [],
   "source": [
    "def getRecommendationByBookCollaborative(user, cnt = 5):\n",
    "    pref_users ,_, users_list ,books_list  = makeDictUser()\n",
    "    pref_book, _ = makeDictBooks()\n",
    "    listOfRecommendation = []\n",
    "    listOfRecommendation = [(1.0, '743464672'), (1.0, '60926317'), (1.0, '157322930X'), (1.0, '373250215'), (1.0, '345427637')]\n",
    "    for book in pref_users[user]:\n",
    "       tmp = getSimilarBooks(pref_book, books_list, book )\n",
    "       for got in tmp:\n",
    "            listOfRecommendation.append(got)\n",
    "    avg_rate, _ = getBookAverageRating()\n",
    "    final = []\n",
    "    for sim,book in listOfRecommendation:\n",
    "        final.append( (sim*avg_rate[book] , book))\n",
    "    final.sort()\n",
    "    final.reverse()\n",
    "    print final[:10]"
   ]
  },
  {
   "cell_type": "code",
   "execution_count": 34,
   "metadata": {
    "collapsed": false
   },
   "outputs": [
    {
     "name": "stdout",
     "output_type": "stream",
     "text": [
      "[(8.750000000000078, '836220889'), (8.641129032258064, '043935806X'), (8.562500000000076, '399144412'), (8.466666666666741, '671744577'), (8.45454545454559, '553213156'), (8.421052631579022, '380776839'), (8.357142857142858, '1400032717'), (8.338028169014084, '345413369'), (8.338028169014084, '345413369'), (8.296296296296434, '812565959')]\n"
     ]
    }
   ],
   "source": [
    "getRecommendationByBookCollaborative(175117)"
   ]
  },
  {
   "cell_type": "code",
   "execution_count": 35,
   "metadata": {
    "collapsed": false
   },
   "outputs": [
    {
     "data": {
      "text/plain": [
       "[(10.0, '451166892'),\n",
       " (10.0, '1558745157'),\n",
       " (9.39, '142001430'),\n",
       " (9.13, '670030643'),\n",
       " (9.09, '60987561'),\n",
       " (9.06, '590353403'),\n",
       " (9.06, '553580515'),\n",
       " (9.06, '553380958'),\n",
       " (9.0, '345459202'),\n",
       " (9.0, '345350499')]"
      ]
     },
     "execution_count": 35,
     "metadata": {},
     "output_type": "execute_result"
    }
   ],
   "source": [
    "getRecommendationByUserCollaborative(175117)"
   ]
  },
  {
   "cell_type": "code",
   "execution_count": null,
   "metadata": {
    "collapsed": true
   },
   "outputs": [],
   "source": []
  }
 ],
 "metadata": {
  "kernelspec": {
   "display_name": "Python 2",
   "language": "python",
   "name": "python2"
  },
  "language_info": {
   "codemirror_mode": {
    "name": "ipython",
    "version": 2
   },
   "file_extension": ".py",
   "mimetype": "text/x-python",
   "name": "python",
   "nbconvert_exporter": "python",
   "pygments_lexer": "ipython2",
   "version": "2.7.11"
  }
 },
 "nbformat": 4,
 "nbformat_minor": 0
}
