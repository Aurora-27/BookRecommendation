{
 "cells": [
  {
   "cell_type": "code",
   "execution_count": 16,
   "metadata": {
    "collapsed": false
   },
   "outputs": [],
   "source": [
    "import pandas as pd"
   ]
  },
  {
   "cell_type": "code",
   "execution_count": 18,
   "metadata": {
    "collapsed": false
   },
   "outputs": [
    {
     "name": "stdout",
     "output_type": "stream",
     "text": [
      "[(0.7745966692414837, 100906), (0.8749999999999811, 87712), (0.880704845927983, 206534), (1.0, 243929), (1.0, 90049)]\n",
      "[(1.0, '743464672'), (1.0, '60926317'), (1.0, '157322930X'), (1.0, '373250215'), (1.0, '345427637')]\n"
     ]
    }
   ],
   "source": [
    "from Collaborative import *"
   ]
  },
  {
   "cell_type": "code",
   "execution_count": 2,
   "metadata": {
    "collapsed": false
   },
   "outputs": [],
   "source": [
    "#bx_ratings = pd.read_csv(\"../newData/df_ratings.csv\")\n",
    "#bx_books = pd.read_csv(\"../newData/df_bookss.csv\")\n",
    "#bx_users = pd.read_csv(\"../newData/df_userss.csv\")"
   ]
  },
  {
   "cell_type": "code",
   "execution_count": 3,
   "metadata": {
    "collapsed": false
   },
   "outputs": [],
   "source": [
    "import operator\n",
    "def find_best_books(listofBooks, cnt):    \n",
    "    book_rate = {}\n",
    "    book_count = {}\n",
    "    for book,rate in listofBooks:\n",
    "        if( book_rate.get(book) == None):\n",
    "            book_rate[book] = 0\n",
    "            book_count[book] = 0\n",
    "        book_rate[book] += float(rate)\n",
    "        book_count[book] += 1\n",
    "    best_books = []\n",
    "    limit = ( max(book_count.iteritems(), key=operator.itemgetter(1))[1] ) * 0.2\n",
    "    for keys in book_count.iterkeys():\n",
    "        if( book_count[keys] >= limit):\n",
    "            best_books.append( ( round(book_rate[keys]/book_count[keys] , 2) , keys))\n",
    "    #print book_count['439139597']\n",
    "    cnt = min(cnt, len(best_books) )\n",
    "    return sorted(best_books, reverse=True)[:cnt]\n",
    "    "
   ]
  },
  {
   "cell_type": "code",
   "execution_count": 4,
   "metadata": {
    "collapsed": false
   },
   "outputs": [],
   "source": [
    "#find_best_books( book_country_map[0][' usa'])"
   ]
  },
  {
   "cell_type": "code",
   "execution_count": 5,
   "metadata": {
    "collapsed": true
   },
   "outputs": [],
   "source": [
    "def getUserAgeMap(bx_users):\n",
    "    map_user_age = {}\n",
    "    #bx_users = pd.read_csv(\"newData/df_userss.csv\")\n",
    "    for i,item in bx_users.iterrows():\n",
    "        map_user_age[ item['User-ID'] ] = item['Age']\n",
    "    return map_user_age\n",
    "\n",
    "def getUserCountryMap(bx_users):\n",
    "    map_user_country = {}\n",
    "    #bx_users = pd.read_csv(\"newData/df_userss.csv\")\n",
    "    for i,item in bx_users.iterrows():\n",
    "        map_user_country[ item['User-ID'] ] = item['Location']\n",
    "    return map_user_country"
   ]
  },
  {
   "cell_type": "code",
   "execution_count": 6,
   "metadata": {
    "collapsed": false
   },
   "outputs": [],
   "source": [
    "def getAgeGroup( age ):\n",
    "    if( age <= 30):\n",
    "        return 0\n",
    "    elif ( age > 30 and age <= 60):\n",
    "        return 1\n",
    "    return 2"
   ]
  },
  {
   "cell_type": "code",
   "execution_count": 7,
   "metadata": {
    "collapsed": true
   },
   "outputs": [],
   "source": [
    "def getDictionaryOfGroupByBooks(user, bx_ratings, bx_users):\n",
    "    ageMap = getUserAgeMap(bx_users)\n",
    "    countryMap = getUserCountryMap(bx_users)\n",
    "    \n",
    "    group = getAgeGroup( ageMap[user] )\n",
    "    country = countryMap[ user ]\n",
    "    \n",
    "    #bx_ratings = pd.read_csv(\"newData/df_ratings.csv\")\n",
    "    listOfBooks = []\n",
    "    for i,item in bx_ratings.iterrows():\n",
    "        user = item['User-ID']\n",
    "        if( countryMap[ user ] == country and getAgeGroup( ageMap[ user ] ) == group ):\n",
    "            listOfBooks.append( (item['ISBN'], item['Book-Rating']) )\n",
    "    return listOfBooks"
   ]
  },
  {
   "cell_type": "code",
   "execution_count": 8,
   "metadata": {
    "collapsed": false
   },
   "outputs": [],
   "source": [
    "def getRecommendationByDemographic(user, cnt=5):\n",
    "    bx_ratings = pd.read_csv(\"../newData/df_ratings.csv\")\n",
    "    bx_books = pd.read_csv(\"../newData/df_bookss.csv\")\n",
    "    bx_users = pd.read_csv(\"../newData/df_userss.csv\")\n",
    "    listofBooks = getDictionaryOfGroupByBooks(user, bx_ratings, bx_users)\n",
    "    recommended_books = find_best_books(listofBooks, cnt)\n",
    "    return recommended_books"
   ]
  },
  {
   "cell_type": "code",
   "execution_count": 9,
   "metadata": {
    "collapsed": false
   },
   "outputs": [
    {
     "data": {
      "text/plain": [
       "[(9.0, '751503894'),\n",
       " (8.6, '8478884459'),\n",
       " (8.33, '8495618605'),\n",
       " (8.33, '8477204055'),\n",
       " (8.33, '345350499')]"
      ]
     },
     "execution_count": 9,
     "metadata": {},
     "output_type": "execute_result"
    }
   ],
   "source": [
    "getRecommendationByDemographic(276925)"
   ]
  },
  {
   "cell_type": "code",
   "execution_count": 29,
   "metadata": {
    "collapsed": true
   },
   "outputs": [],
   "source": [
    "import random\n",
    "\n",
    "def calculate(pref_users, user, recommendation):\n",
    "    acsum = 0\n",
    "    cnt = 0\n",
    "    for rate,book in recommendation:\n",
    "        if( pref_users[user].get(book) != None):\n",
    "            cnt += 1\n",
    "            acsum += abs( rate - pref_users[user][book])**2\n",
    "    return (acsum, cnt)\n",
    "def getAccuracy():\n",
    "    pref_book, _ = makeDictBooks()\n",
    "    total_users = set( ratings['User-ID'])\n",
    "    total_users = random.sample( total_users, 10)\n",
    "    sumofaccuracy = 0\n",
    "    denom = 0\n",
    "    pref_users ,_, users_list ,books_list  = makeDictUser()\n",
    "    for user in total_users:\n",
    "        recommendation = getRecommendationByDemographic(user,100)\n",
    "        x,y = calculate(pref_users, user, recommendation)\n",
    "        sumofaccuracy += x\n",
    "        denom += y\n",
    "    print (sumofaccuracy / denom , denom)\n",
    "        \n",
    "    \n",
    "    "
   ]
  },
  {
   "cell_type": "code",
   "execution_count": 31,
   "metadata": {
    "collapsed": false
   },
   "outputs": [
    {
     "name": "stdout",
     "output_type": "stream",
     "text": [
      "(0.8288888888888888, 18)\n"
     ]
    }
   ],
   "source": [
    "getAccuracy()"
   ]
  },
  {
   "cell_type": "code",
   "execution_count": 32,
   "metadata": {
    "collapsed": false
   },
   "outputs": [
    {
     "data": {
      "text/plain": [
       "0.9104333522498441"
      ]
     },
     "execution_count": 32,
     "metadata": {},
     "output_type": "execute_result"
    }
   ],
   "source": [
    "0.8288888888888888**0.5"
   ]
  },
  {
   "cell_type": "code",
   "execution_count": null,
   "metadata": {
    "collapsed": true
   },
   "outputs": [],
   "source": []
  }
 ],
 "metadata": {
  "kernelspec": {
   "display_name": "Python 2",
   "language": "python",
   "name": "python2"
  },
  "language_info": {
   "codemirror_mode": {
    "name": "ipython",
    "version": 2
   },
   "file_extension": ".py",
   "mimetype": "text/x-python",
   "name": "python",
   "nbconvert_exporter": "python",
   "pygments_lexer": "ipython2",
   "version": "2.7.11"
  }
 },
 "nbformat": 4,
 "nbformat_minor": 0
}
