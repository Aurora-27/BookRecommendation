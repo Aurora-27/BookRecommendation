{
 "cells": [
  {
   "cell_type": "code",
   "execution_count": 48,
   "metadata": {
    "collapsed": true
   },
   "outputs": [],
   "source": [
    "import pandas as pd"
   ]
  },
  {
   "cell_type": "code",
   "execution_count": 49,
   "metadata": {
    "collapsed": false
   },
   "outputs": [],
   "source": [
    "ratings = pd.read_csv('newData/df_ratings.csv')"
   ]
  },
  {
   "cell_type": "code",
   "execution_count": 50,
   "metadata": {
    "collapsed": false
   },
   "outputs": [
    {
     "data": {
      "text/html": [
       "<div>\n",
       "<table border=\"1\" class=\"dataframe\">\n",
       "  <thead>\n",
       "    <tr style=\"text-align: right;\">\n",
       "      <th></th>\n",
       "      <th>User-ID</th>\n",
       "      <th>ISBN</th>\n",
       "      <th>Book-Rating</th>\n",
       "    </tr>\n",
       "  </thead>\n",
       "  <tbody>\n",
       "    <tr>\n",
       "      <th>0</th>\n",
       "      <td>276925</td>\n",
       "      <td>002542730X</td>\n",
       "      <td>10.0</td>\n",
       "    </tr>\n",
       "    <tr>\n",
       "      <th>1</th>\n",
       "      <td>276925</td>\n",
       "      <td>60520507</td>\n",
       "      <td>0.0</td>\n",
       "    </tr>\n",
       "    <tr>\n",
       "      <th>2</th>\n",
       "      <td>276925</td>\n",
       "      <td>151010633</td>\n",
       "      <td>0.0</td>\n",
       "    </tr>\n",
       "    <tr>\n",
       "      <th>3</th>\n",
       "      <td>276925</td>\n",
       "      <td>316666343</td>\n",
       "      <td>0.0</td>\n",
       "    </tr>\n",
       "    <tr>\n",
       "      <th>4</th>\n",
       "      <td>276925</td>\n",
       "      <td>345391810</td>\n",
       "      <td>0.0</td>\n",
       "    </tr>\n",
       "  </tbody>\n",
       "</table>\n",
       "</div>"
      ],
      "text/plain": [
       "   User-ID        ISBN  Book-Rating\n",
       "0   276925  002542730X         10.0\n",
       "1   276925    60520507          0.0\n",
       "2   276925   151010633          0.0\n",
       "3   276925   316666343          0.0\n",
       "4   276925   345391810          0.0"
      ]
     },
     "execution_count": 50,
     "metadata": {},
     "output_type": "execute_result"
    }
   ],
   "source": [
    "ratings.head()"
   ]
  },
  {
   "cell_type": "code",
   "execution_count": 51,
   "metadata": {
    "collapsed": true
   },
   "outputs": [],
   "source": [
    "ratings = pd.DataFrame(ratings)\n"
   ]
  },
  {
   "cell_type": "code",
   "execution_count": 52,
   "metadata": {
    "collapsed": false,
    "scrolled": true
   },
   "outputs": [
    {
     "name": "stdout",
     "output_type": "stream",
     "text": [
      "276925 002542730X 10.0\n",
      "276925 60520507 0.0\n",
      "276925 151010633 0.0\n",
      "276925 316666343 0.0\n",
      "276925 345391810 0.0\n",
      "276925 385504209 8.0\n",
      "276925 451527747 0.0\n",
      "276925 486282112 0.0\n",
      "276925 486424499 0.0\n",
      "276925 067172939X 0.0\n",
      "276925 671729438 0.0\n"
     ]
    }
   ],
   "source": [
    "i = 0\n",
    "for index, row in ratings.iterrows():\n",
    "    print row['User-ID'], row['ISBN'] ,row['Book-Rating']\n",
    "    i += 1\n",
    "    if( i > 10 ):\n",
    "        break"
   ]
  },
  {
   "cell_type": "code",
   "execution_count": 53,
   "metadata": {
    "collapsed": true
   },
   "outputs": [],
   "source": [
    "def make_dict():\n",
    "    ratings = pd.read_csv('newData/df_ratings.csv')\n",
    "    ratings = pd.DataFrame(ratings)\n",
    "    dict_ratings = {}\n",
    "    i = 0\n",
    "    user_list = set()\n",
    "    book_list = set()\n",
    "    for index, row in ratings.iterrows():\n",
    "        user = row['User-ID']\n",
    "        isbn = row['ISBN']\n",
    "        rate = row['Book-Rating']\n",
    "        i += 1\n",
    "        dict_ratings.setdefault(user, {} )\n",
    "        dict_ratings[user][isbn] = rate\n",
    "        user_list.add(user)\n",
    "        book_list.add(isbn)\n",
    "    return [dict_ratings, i, user_list, book_list]\n",
    "\n",
    "def make_dict2():\n",
    "    ratings = pd.read_csv('newData/df_ratings.csv')\n",
    "    ratings = pd.DataFrame(ratings)\n",
    "    dict_ratings = {}\n",
    "    i = 0\n",
    "    for index, row in ratings.iterrows():\n",
    "        user = row['User-ID']\n",
    "        isbn = row['ISBN']\n",
    "        rate = row['Book-Rating']\n",
    "        i += 1\n",
    "        dict_ratings.setdefault(isbn, {} )\n",
    "        dict_ratings[isbn][user] = rate\n",
    "    return dict_ratings, i"
   ]
  },
  {
   "cell_type": "code",
   "execution_count": null,
   "metadata": {
    "collapsed": false
   },
   "outputs": [],
   "source": []
  },
  {
   "cell_type": "code",
   "execution_count": 54,
   "metadata": {
    "collapsed": false
   },
   "outputs": [],
   "source": [
    "def sim_pearson(prefs,p1,p2):\n",
    " # Get the list of mutually rated items\n",
    " si={}\n",
    " for item in prefs[p1]:\n",
    "     if item in prefs[p2]: si[item]=1\n",
    " # Find the number of elements\n",
    " n=len(si)\n",
    " # if they are no ratings in common, return 0\n",
    " if n==0: return 0\n",
    " # Add up all the preferences\n",
    " sum1=sum([prefs[p1][it] for it in si])\n",
    " sum2=sum([prefs[p2][it] for it in si])\n",
    " # Sum up the squares\n",
    " sum1Sq=sum([pow(prefs[p1][it],2) for it in si])\n",
    " sum2Sq=sum([pow(prefs[p2][it],2) for it in si])\n",
    " # Sum up the products\n",
    " pSum=sum([prefs[p1][it]*prefs[p2][it] for it in si])\n",
    " # Calculate Pearson score\n",
    " num=pSum-(sum1*sum2/n)\n",
    " den= (sum1Sq-pow(sum1,2)/n)*(sum2Sq-pow(sum2,2)/n)**0.5\n",
    " if den==0: return 0\n",
    " return num/den"
   ]
  },
  {
   "cell_type": "code",
   "execution_count": 72,
   "metadata": {
    "collapsed": false
   },
   "outputs": [],
   "source": [
    "pref_users ,cnt , users ,books  = make_dict()"
   ]
  },
  {
   "cell_type": "code",
   "execution_count": 56,
   "metadata": {
    "collapsed": true
   },
   "outputs": [],
   "source": [
    "pref_book, _ = make_dict2()"
   ]
  },
  {
   "cell_type": "code",
   "execution_count": 57,
   "metadata": {
    "collapsed": false
   },
   "outputs": [
    {
     "name": "stdout",
     "output_type": "stream",
     "text": [
      "9891\n"
     ]
    }
   ],
   "source": [
    "print len(users)"
   ]
  },
  {
   "cell_type": "code",
   "execution_count": 68,
   "metadata": {
    "collapsed": true
   },
   "outputs": [],
   "source": [
    "def getSimilarUsers(user, cnt=5):\n",
    "    similarity = []\n",
    "    for given in users:\n",
    "        if( given != user):\n",
    "            similarity.append(( sim_pearson(pref,user,given) , given ) )\n",
    "            #similarity.append(sim_pearson(pref,user,given) )\n",
    "    similarity = sorted( similarity, key = lambda x: x[0])\n",
    "    #similarity.sort()\n",
    "    return similarity[-cnt:]"
   ]
  },
  {
   "cell_type": "code",
   "execution_count": 69,
   "metadata": {
    "collapsed": false
   },
   "outputs": [
    {
     "name": "stdout",
     "output_type": "stream",
     "text": [
      "[(0.282842712474619, 199515), (0.4714045207910316, 87707), (0.47140452079103173, 238400), (0.47140452079103173, 43901), (0.7071067811865476, 176481)]\n"
     ]
    }
   ],
   "source": [
    "print getSimilarUsers(175117)"
   ]
  },
  {
   "cell_type": "code",
   "execution_count": 70,
   "metadata": {
    "collapsed": true
   },
   "outputs": [],
   "source": [
    "def getSimilarBooks(book, cnt = 5):\n",
    "    similarity = []\n",
    "    for given in books:\n",
    "        if( given != books):\n",
    "            similarity.append( (sim_pearson(pref_book,book,given)) , given)\n",
    "    similarity = sorted( similarity, key = lambda x: x[0])\n",
    "    return similarity[-cnt:]"
   ]
  },
  {
   "cell_type": "code",
   "execution_count": 71,
   "metadata": {
    "collapsed": false
   },
   "outputs": [
    {
     "ename": "KeyError",
     "evalue": "60520507",
     "output_type": "error",
     "traceback": [
      "\u001b[1;31m---------------------------------------------------------------------------\u001b[0m",
      "\u001b[1;31mKeyError\u001b[0m                                  Traceback (most recent call last)",
      "\u001b[1;32m<ipython-input-71-cb8d5c1c2df9>\u001b[0m in \u001b[0;36m<module>\u001b[1;34m()\u001b[0m\n\u001b[1;32m----> 1\u001b[1;33m \u001b[1;32mprint\u001b[0m \u001b[0mgetSimilarBooks\u001b[0m\u001b[1;33m(\u001b[0m\u001b[1;36m60520507\u001b[0m\u001b[1;33m)\u001b[0m\u001b[1;33m\u001b[0m\u001b[0m\n\u001b[0m",
      "\u001b[1;32m<ipython-input-70-597f2bfd16d0>\u001b[0m in \u001b[0;36mgetSimilarBooks\u001b[1;34m(book, cnt)\u001b[0m\n\u001b[0;32m      3\u001b[0m     \u001b[1;32mfor\u001b[0m \u001b[0mgiven\u001b[0m \u001b[1;32min\u001b[0m \u001b[0mbooks\u001b[0m\u001b[1;33m:\u001b[0m\u001b[1;33m\u001b[0m\u001b[0m\n\u001b[0;32m      4\u001b[0m         \u001b[1;32mif\u001b[0m\u001b[1;33m(\u001b[0m \u001b[0mgiven\u001b[0m \u001b[1;33m!=\u001b[0m \u001b[0mbooks\u001b[0m\u001b[1;33m)\u001b[0m\u001b[1;33m:\u001b[0m\u001b[1;33m\u001b[0m\u001b[0m\n\u001b[1;32m----> 5\u001b[1;33m             \u001b[0msimilarity\u001b[0m\u001b[1;33m.\u001b[0m\u001b[0mappend\u001b[0m\u001b[1;33m(\u001b[0m \u001b[1;33m(\u001b[0m\u001b[0msim_pearson\u001b[0m\u001b[1;33m(\u001b[0m\u001b[0mpref_book\u001b[0m\u001b[1;33m,\u001b[0m\u001b[0mbook\u001b[0m\u001b[1;33m,\u001b[0m\u001b[0mgiven\u001b[0m\u001b[1;33m)\u001b[0m\u001b[1;33m)\u001b[0m \u001b[1;33m,\u001b[0m \u001b[0mgiven\u001b[0m\u001b[1;33m)\u001b[0m\u001b[1;33m\u001b[0m\u001b[0m\n\u001b[0m\u001b[0;32m      6\u001b[0m     \u001b[0msimilarity\u001b[0m \u001b[1;33m=\u001b[0m \u001b[0msorted\u001b[0m\u001b[1;33m(\u001b[0m \u001b[0msimilarity\u001b[0m\u001b[1;33m,\u001b[0m \u001b[0mkey\u001b[0m \u001b[1;33m=\u001b[0m \u001b[1;32mlambda\u001b[0m \u001b[0mx\u001b[0m\u001b[1;33m:\u001b[0m \u001b[0mx\u001b[0m\u001b[1;33m[\u001b[0m\u001b[1;36m0\u001b[0m\u001b[1;33m]\u001b[0m\u001b[1;33m)\u001b[0m\u001b[1;33m\u001b[0m\u001b[0m\n\u001b[0;32m      7\u001b[0m     \u001b[1;32mreturn\u001b[0m \u001b[0msimilarity\u001b[0m\u001b[1;33m[\u001b[0m\u001b[1;33m-\u001b[0m\u001b[0mcnt\u001b[0m\u001b[1;33m:\u001b[0m\u001b[1;33m]\u001b[0m\u001b[1;33m\u001b[0m\u001b[0m\n",
      "\u001b[1;32m<ipython-input-54-c1fd9661fd0d>\u001b[0m in \u001b[0;36msim_pearson\u001b[1;34m(prefs, p1, p2)\u001b[0m\n\u001b[0;32m      2\u001b[0m  \u001b[1;31m# Get the list of mutually rated items\u001b[0m\u001b[1;33m\u001b[0m\u001b[1;33m\u001b[0m\u001b[0m\n\u001b[0;32m      3\u001b[0m  \u001b[0msi\u001b[0m\u001b[1;33m=\u001b[0m\u001b[1;33m{\u001b[0m\u001b[1;33m}\u001b[0m\u001b[1;33m\u001b[0m\u001b[0m\n\u001b[1;32m----> 4\u001b[1;33m  \u001b[1;32mfor\u001b[0m \u001b[0mitem\u001b[0m \u001b[1;32min\u001b[0m \u001b[0mprefs\u001b[0m\u001b[1;33m[\u001b[0m\u001b[0mp1\u001b[0m\u001b[1;33m]\u001b[0m\u001b[1;33m:\u001b[0m\u001b[1;33m\u001b[0m\u001b[0m\n\u001b[0m\u001b[0;32m      5\u001b[0m      \u001b[1;32mif\u001b[0m \u001b[0mitem\u001b[0m \u001b[1;32min\u001b[0m \u001b[0mprefs\u001b[0m\u001b[1;33m[\u001b[0m\u001b[0mp2\u001b[0m\u001b[1;33m]\u001b[0m\u001b[1;33m:\u001b[0m \u001b[0msi\u001b[0m\u001b[1;33m[\u001b[0m\u001b[0mitem\u001b[0m\u001b[1;33m]\u001b[0m\u001b[1;33m=\u001b[0m\u001b[1;36m1\u001b[0m\u001b[1;33m\u001b[0m\u001b[0m\n\u001b[0;32m      6\u001b[0m  \u001b[1;31m# Find the number of elements\u001b[0m\u001b[1;33m\u001b[0m\u001b[1;33m\u001b[0m\u001b[0m\n",
      "\u001b[1;31mKeyError\u001b[0m: 60520507"
     ]
    }
   ],
   "source": [
    "print getSimilarBooks(60520507)"
   ]
  },
  {
   "cell_type": "code",
   "execution_count": null,
   "metadata": {
    "collapsed": true
   },
   "outputs": [],
   "source": []
  }
 ],
 "metadata": {
  "kernelspec": {
   "display_name": "Python 2",
   "language": "python",
   "name": "python2"
  },
  "language_info": {
   "codemirror_mode": {
    "name": "ipython",
    "version": 2
   },
   "file_extension": ".py",
   "mimetype": "text/x-python",
   "name": "python",
   "nbconvert_exporter": "python",
   "pygments_lexer": "ipython2",
   "version": "2.7.11"
  }
 },
 "nbformat": 4,
 "nbformat_minor": 0
}
