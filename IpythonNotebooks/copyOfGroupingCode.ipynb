{
 "cells": [
  {
   "cell_type": "code",
   "execution_count": 2,
   "metadata": {
    "collapsed": false
   },
   "outputs": [],
   "source": [
    "import pandas as pd"
   ]
  },
  {
   "cell_type": "code",
   "execution_count": 6,
   "metadata": {
    "collapsed": true
   },
   "outputs": [],
   "source": [
    "bx_ratings = pd.read_csv(\"newData/df_ratings.csv\")\n",
    "bx_books = pd.read_csv(\"newData/df_bookss.csv\")\n",
    "bx_users = pd.read_csv(\"newData/df_userss.csv\")"
   ]
  },
  {
   "cell_type": "code",
   "execution_count": 7,
   "metadata": {
    "collapsed": false
   },
   "outputs": [
    {
     "data": {
      "text/html": [
       "<div>\n",
       "<table border=\"1\" class=\"dataframe\">\n",
       "  <thead>\n",
       "    <tr style=\"text-align: right;\">\n",
       "      <th></th>\n",
       "      <th>User-ID</th>\n",
       "      <th>Location</th>\n",
       "      <th>Age</th>\n",
       "    </tr>\n",
       "  </thead>\n",
       "  <tbody>\n",
       "    <tr>\n",
       "      <th>0</th>\n",
       "      <td>99</td>\n",
       "      <td>usa</td>\n",
       "      <td>42</td>\n",
       "    </tr>\n",
       "    <tr>\n",
       "      <th>1</th>\n",
       "      <td>114</td>\n",
       "      <td>usa</td>\n",
       "      <td>57</td>\n",
       "    </tr>\n",
       "    <tr>\n",
       "      <th>2</th>\n",
       "      <td>165</td>\n",
       "      <td>usa</td>\n",
       "      <td>62</td>\n",
       "    </tr>\n",
       "    <tr>\n",
       "      <th>3</th>\n",
       "      <td>243</td>\n",
       "      <td>usa</td>\n",
       "      <td>37</td>\n",
       "    </tr>\n",
       "    <tr>\n",
       "      <th>4</th>\n",
       "      <td>244</td>\n",
       "      <td>usa</td>\n",
       "      <td>37</td>\n",
       "    </tr>\n",
       "  </tbody>\n",
       "</table>\n",
       "</div>"
      ],
      "text/plain": [
       "   User-ID Location  Age\n",
       "0       99      usa   42\n",
       "1      114      usa   57\n",
       "2      165      usa   62\n",
       "3      243      usa   37\n",
       "4      244      usa   37"
      ]
     },
     "execution_count": 7,
     "metadata": {},
     "output_type": "execute_result"
    }
   ],
   "source": [
    "bx_users.head()"
   ]
  },
  {
   "cell_type": "code",
   "execution_count": 10,
   "metadata": {
    "collapsed": false
   },
   "outputs": [
    {
     "name": "stdout",
     "output_type": "stream",
     "text": [
      "73\n"
     ]
    },
    {
     "data": {
      "text/plain": [
       " usa                    6941\n",
       " canada                  900\n",
       "Global                   413\n",
       " united kingdom          279\n",
       " germany                 156\n",
       " australia               129\n",
       " spain                    67\n",
       " portugal                 65\n",
       " netherlands              53\n",
       " france                   50\n",
       " malaysia                 48\n",
       " italy                    34\n",
       " new zealand              29\n",
       " finland                  18\n",
       " switzerland              18\n",
       " austria                  18\n",
       " singapore                17\n",
       " romania                  13\n",
       " ireland                  12\n",
       " sweden                   11\n",
       " philippines              10\n",
       " brazil                   10\n",
       " japan                     9\n",
       " mexico                    8\n",
       " norway                    6\n",
       " china                     6\n",
       " iran                      5\n",
       " poland                    5\n",
       " belgium                   5\n",
       " kuwait                    4\n",
       "                        ... \n",
       " south korea               2\n",
       " bulgaria                  2\n",
       " russia                    1\n",
       " czech republic            1\n",
       " burma                     1\n",
       " sri lanka                 1\n",
       " united state              1\n",
       " universe                  1\n",
       " chile                     1\n",
       " united states             1\n",
       " van wert                  1\n",
       " turkey                    1\n",
       " saint lucia               1\n",
       " bahrain                   1\n",
       " us                        1\n",
       " bermuda                   1\n",
       " hungary                   1\n",
       " antarctica                1\n",
       " tanzania                  1\n",
       " phillipines               1\n",
       " qatar                     1\n",
       " cyprus                    1\n",
       " america                   1\n",
       " far away...               1\n",
       " slovenia                  1\n",
       " costa rica                1\n",
       " venezuela                 1\n",
       " honduras                  1\n",
       " euskal herria             1\n",
       " trinidad and tobago       1\n",
       "Name: Location, dtype: int64"
      ]
     },
     "execution_count": 10,
     "metadata": {},
     "output_type": "execute_result"
    }
   ],
   "source": [
    "countries = set( bx_users['Location'])\n",
    "print len(countries)\n",
    "bx_users['Location'].value_counts()"
   ]
  },
  {
   "cell_type": "code",
   "execution_count": 11,
   "metadata": {
    "collapsed": false
   },
   "outputs": [
    {
     "data": {
      "text/html": [
       "<div>\n",
       "<table border=\"1\" class=\"dataframe\">\n",
       "  <thead>\n",
       "    <tr style=\"text-align: right;\">\n",
       "      <th></th>\n",
       "      <th>User-ID</th>\n",
       "      <th>ISBN</th>\n",
       "      <th>Book-Rating</th>\n",
       "    </tr>\n",
       "  </thead>\n",
       "  <tbody>\n",
       "    <tr>\n",
       "      <th>0</th>\n",
       "      <td>276925</td>\n",
       "      <td>002542730X</td>\n",
       "      <td>10.0</td>\n",
       "    </tr>\n",
       "    <tr>\n",
       "      <th>1</th>\n",
       "      <td>276925</td>\n",
       "      <td>60520507</td>\n",
       "      <td>9.0</td>\n",
       "    </tr>\n",
       "    <tr>\n",
       "      <th>2</th>\n",
       "      <td>276925</td>\n",
       "      <td>151010633</td>\n",
       "      <td>9.0</td>\n",
       "    </tr>\n",
       "    <tr>\n",
       "      <th>3</th>\n",
       "      <td>276925</td>\n",
       "      <td>316666343</td>\n",
       "      <td>9.0</td>\n",
       "    </tr>\n",
       "    <tr>\n",
       "      <th>4</th>\n",
       "      <td>276925</td>\n",
       "      <td>345391810</td>\n",
       "      <td>9.0</td>\n",
       "    </tr>\n",
       "  </tbody>\n",
       "</table>\n",
       "</div>"
      ],
      "text/plain": [
       "   User-ID        ISBN  Book-Rating\n",
       "0   276925  002542730X         10.0\n",
       "1   276925    60520507          9.0\n",
       "2   276925   151010633          9.0\n",
       "3   276925   316666343          9.0\n",
       "4   276925   345391810          9.0"
      ]
     },
     "execution_count": 11,
     "metadata": {},
     "output_type": "execute_result"
    }
   ],
   "source": [
    "bx_ratings.head()"
   ]
  },
  {
   "cell_type": "code",
   "execution_count": 16,
   "metadata": {
    "collapsed": false
   },
   "outputs": [
    {
     "data": {
      "text/plain": [
       "9403"
      ]
     },
     "execution_count": 16,
     "metadata": {},
     "output_type": "execute_result"
    }
   ],
   "source": [
    "map_user_country = {}\n",
    "age_user_map = {}\n",
    "for i,item in bx_users.iterrows():\n",
    "    map_user_country[ item['User-ID'] ] = item['Location']\n",
    "    age_user_map[item['User-ID'] ] = item['Age']\n",
    "len(map_user_country)"
   ]
  },
  {
   "cell_type": "code",
   "execution_count": 23,
   "metadata": {
    "collapsed": false
   },
   "outputs": [],
   "source": [
    "len( set( bx_ratings['User-ID']))\n",
    "gg = set()"
   ]
  },
  {
   "cell_type": "code",
   "execution_count": 18,
   "metadata": {
    "collapsed": false
   },
   "outputs": [],
   "source": [
    "book_country_map = [{}, {}, {}]\n",
    "\n",
    "for i,item in bx_ratings.iterrows():\n",
    "    book = item['ISBN']\n",
    "    user = item['User-ID']\n",
    "    ratings = item['Book-Rating']\n",
    "    country = map_user_country[user]\n",
    "    group = 0\n",
    "\n",
    "    if( age_user_map[user] <= 30 ):\n",
    "        group = 0\n",
    "    elif(age_user_map[user] <= 60  and age_user_map[user] > 30 ):\n",
    "        group = 1\n",
    "    else:\n",
    "        group = 2\n",
    "    if( book_country_map[group].get(country) == None):\n",
    "        book_country_map[group][country] = [(book, ratings)]\n",
    "    else:\n",
    "        book_country_map[group][country].append( (book, ratings) )\n",
    "    "
   ]
  },
  {
   "cell_type": "code",
   "execution_count": 117,
   "metadata": {
    "collapsed": false
   },
   "outputs": [],
   "source": [
    "import operator\n",
    "def find_best_books(listofBooks, cnt):    \n",
    "    book_rate = {}\n",
    "    book_count = {}\n",
    "    for book,rate in listofBooks:\n",
    "        if( book_rate.get(book) == None):\n",
    "            book_rate[book] = 0\n",
    "            book_count[book] = 0\n",
    "        book_rate[book] += float(rate)\n",
    "        book_count[book] += 1\n",
    "    best_books = []\n",
    "    limit = ( max(book_count.iteritems(), key=operator.itemgetter(1))[1] ) * 0.2\n",
    "    for keys in book_count.iterkeys():\n",
    "        if( book_count[keys] >= limit):\n",
    "            best_books.append( ( round(book_rate[keys]/book_count[keys] , 2) , keys))\n",
    "    #print book_count['439139597']\n",
    "    cnt = min(cnt, len(best_books) )\n",
    "    return sorted(best_books, reverse=True)[:cnt]\n",
    "    "
   ]
  },
  {
   "cell_type": "code",
   "execution_count": 118,
   "metadata": {
    "collapsed": false
   },
   "outputs": [
    {
     "ename": "TypeError",
     "evalue": "find_best_books() takes exactly 2 arguments (1 given)",
     "output_type": "error",
     "traceback": [
      "\u001b[1;31m---------------------------------------------------------------------------\u001b[0m",
      "\u001b[1;31mTypeError\u001b[0m                                 Traceback (most recent call last)",
      "\u001b[1;32m<ipython-input-118-2727bf03f4d2>\u001b[0m in \u001b[0;36m<module>\u001b[1;34m()\u001b[0m\n\u001b[1;32m----> 1\u001b[1;33m \u001b[0mfind_best_books\u001b[0m\u001b[1;33m(\u001b[0m \u001b[0mbook_country_map\u001b[0m\u001b[1;33m[\u001b[0m\u001b[1;36m0\u001b[0m\u001b[1;33m]\u001b[0m\u001b[1;33m[\u001b[0m\u001b[1;34m' usa'\u001b[0m\u001b[1;33m]\u001b[0m\u001b[1;33m)\u001b[0m\u001b[1;33m\u001b[0m\u001b[0m\n\u001b[0m",
      "\u001b[1;31mTypeError\u001b[0m: find_best_books() takes exactly 2 arguments (1 given)"
     ]
    }
   ],
   "source": [
    "find_best_books( book_country_map[0][' usa'])"
   ]
  },
  {
   "cell_type": "code",
   "execution_count": 119,
   "metadata": {
    "collapsed": true
   },
   "outputs": [],
   "source": [
    "def getUserAgeMap():\n",
    "    map_user_age = {}\n",
    "    bx_users = pd.read_csv(\"newData/df_userss.csv\")\n",
    "    for i,item in bx_users.iterrows():\n",
    "        map_user_age[ item['User-ID'] ] = item['Age']\n",
    "    return map_user_age\n",
    "\n",
    "def getUserCountryMap():\n",
    "    map_user_country = {}\n",
    "    bx_users = pd.read_csv(\"newData/df_userss.csv\")\n",
    "    for i,item in bx_users.iterrows():\n",
    "        map_user_country[ item['User-ID'] ] = item['Location']\n",
    "    return map_user_country"
   ]
  },
  {
   "cell_type": "code",
   "execution_count": 120,
   "metadata": {
    "collapsed": false
   },
   "outputs": [],
   "source": [
    "def getAgeGroup( age ):\n",
    "    if( age <= 30):\n",
    "        return 0\n",
    "    elif ( age > 30 and age <= 60):\n",
    "        return 1\n",
    "    return 2"
   ]
  },
  {
   "cell_type": "code",
   "execution_count": 124,
   "metadata": {
    "collapsed": true
   },
   "outputs": [],
   "source": [
    "def getDictionaryOfGroupByBooks( user ):\n",
    "    ageMap = getUserAgeMap()\n",
    "    countryMap = getUserCountryMap()\n",
    "    \n",
    "    group = getAgeGroup( ageMap[user] )\n",
    "    country = countryMap[ user ]\n",
    "    \n",
    "    bx_ratings = pd.read_csv(\"newData/df_ratings.csv\")\n",
    "    listOfBooks = []\n",
    "    for i,item in bx_ratings.iterrows():\n",
    "        user = item['User-ID']\n",
    "        if( countryMap[ user ] == country and getAgeGroup( ageMap[ user ] ) == group ):\n",
    "            listOfBooks.append( (item['ISBN'], item['Book-Rating']) )\n",
    "    return listOfBooks"
   ]
  },
  {
   "cell_type": "code",
   "execution_count": 125,
   "metadata": {
    "collapsed": false
   },
   "outputs": [],
   "source": [
    "def getRecommendationByDemographic(user):\n",
    "    listofBooks = getDictionaryOfGroupByBooks(user)\n",
    "    recommended_books = find_best_books(listofBooks, 5)\n",
    "    return recommended_books"
   ]
  },
  {
   "cell_type": "code",
   "execution_count": 126,
   "metadata": {
    "collapsed": false
   },
   "outputs": [
    {
     "data": {
      "text/plain": [
       "[(9.0, '751503894'),\n",
       " (8.6, '8478884459'),\n",
       " (8.33, '8495618605'),\n",
       " (8.33, '8477204055'),\n",
       " (8.33, '345350499')]"
      ]
     },
     "execution_count": 126,
     "metadata": {},
     "output_type": "execute_result"
    }
   ],
   "source": [
    "getRecommendationByDemographic(276925)"
   ]
  },
  {
   "cell_type": "code",
   "execution_count": null,
   "metadata": {
    "collapsed": true
   },
   "outputs": [],
   "source": []
  }
 ],
 "metadata": {
  "kernelspec": {
   "display_name": "Python 2",
   "language": "python",
   "name": "python2"
  },
  "language_info": {
   "codemirror_mode": {
    "name": "ipython",
    "version": 2
   },
   "file_extension": ".py",
   "mimetype": "text/x-python",
   "name": "python",
   "nbconvert_exporter": "python",
   "pygments_lexer": "ipython2",
   "version": "2.7.11"
  }
 },
 "nbformat": 4,
 "nbformat_minor": 0
}
